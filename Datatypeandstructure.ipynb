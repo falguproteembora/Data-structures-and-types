{
  "nbformat": 4,
  "nbformat_minor": 0,
  "metadata": {
    "colab": {
      "provenance": []
    },
    "kernelspec": {
      "name": "python3",
      "display_name": "Python 3"
    },
    "language_info": {
      "name": "python"
    }
  },
  "cells": [
    {
      "cell_type": "markdown",
      "source": [
        "Assignment on Data Types and Sructures"
      ],
      "metadata": {
        "id": "jYDRW0g8BMh1"
      }
    },
    {
      "cell_type": "markdown",
      "source": [
        "1. What are data structures, and why are they important?\n",
        "  - Data structures are specialized formats for organizing and storing data in computers. They are the building blocks of efficient algorithms and software development. They are like containers or blueprints that determine how data is arranged and accessed. They are important because:  \n",
        "  Efficiency: Different data structures are optimized for different operations. Choosing the right one can significantly improve the performance of your programs in terms of time and space complexity.  \n",
        "  Organization: Data structures provide a structured way to organize data, making it easier to manage, search, and manipulate.  \n",
        "  Problem-solving: Many algorithms are designed around specific data structures. Understanding them is crucial for developing efficient solutions to complex problems.  \n",
        "  Real-world applications: Data structures are used in various fields, including databases, operating systems, artificial intelligence, and more.\n",
        "\n",
        "\n",
        "2. Explain the difference between mutable and immutable data types with examples.\n",
        "  - Mutable vs. Immutable Data Types in Python  \n",
        "  Mutable Data Types:  \n",
        "  Mutable data types can be changed or modified after they are created. This means one can add, remove, or modify elements within the data structure.\n",
        "  eg. Lists, Dictionaries, Sets.  \n",
        "  Immutable Data Types:  \n",
        "  Immutable data types cannot be changed after they are created. Any operation that appears to modify an immutable object actually creates a new object with the modified value.  \n",
        "  eg. Numbers, Strings, Tuples.\n",
        "\n",
        "\n",
        "3. What are the main differences between lists and tuples in Python?\n",
        "  - Both lists and tuples are fundamental data structures in Python used to store collections of elements. However, they have key differences that make them suitable for different use cases.  \n",
        "  Lists: Mutable, meaning one can change their elements after creation. You can add, remove, or modify elements within a list. They are enclosed in Square bracket  \n",
        "  Tuples: Immutable, meaning their elements cannot be changed once they are created. This makes tuples ideal for representing fixed data that shouldn't be modified. They are enclosed in parentheses. Generally faster than lists, especially for read operations, due to their immutability.\n",
        "\n",
        "4.  Describe how dictionaries store data.\n",
        "  - Dictionaries store data in a key-value pair format. This means that for each piece of information we want to store, we provide a unique identifier (the key) and associate it with the actual value we want to remember.  \n",
        "  eg. my_dict = {'name': 'Alice', 'age': 30, 'city': 'New York'}  \n",
        "  In this example:\n",
        "  'name', 'age', and 'city' are the keys.  \n",
        "  'Alice', '30', and 'New York' are the corresponding values.\n",
        "\n",
        "5. Why might you use a set instead of a list in Python?\n",
        "  -\n",
        "\n"
      ],
      "metadata": {
        "id": "lUOwPV4mBiIK"
      }
    },
    {
      "cell_type": "code",
      "execution_count": null,
      "metadata": {
        "id": "oW1Lj6EuA-iU",
        "colab": {
          "base_uri": "https://localhost:8080/"
        },
        "outputId": "e78a78e8-a071-43f8-dc11-a543d4b820a7"
      },
      "outputs": [
        {
          "output_type": "stream",
          "name": "stdout",
          "text": [
            "Falgu\n"
          ]
        }
      ],
      "source": [
        "# 1.  Write a code to create a string with your name and print it.\n",
        "\n",
        "My_name = \"Falgu\"\n",
        "print(My_name)\n"
      ]
    },
    {
      "cell_type": "code",
      "source": [
        "# 2.  Write a code to find the length of the string \"Hello World\".\n",
        "\n",
        "string1 = \"Hello World\"\n",
        "len(string1)"
      ],
      "metadata": {
        "colab": {
          "base_uri": "https://localhost:8080/"
        },
        "id": "SHKpPIkUs861",
        "outputId": "636241ee-5baa-467e-8cba-f46edf10cd02"
      },
      "execution_count": null,
      "outputs": [
        {
          "output_type": "execute_result",
          "data": {
            "text/plain": [
              "11"
            ]
          },
          "metadata": {},
          "execution_count": 10
        }
      ]
    },
    {
      "cell_type": "code",
      "source": [
        "# 3.  Write a code to slice the first 3 characters from the string \"Python Programming\"\n",
        "\n",
        "my_string = \"Python programmin\"\n",
        "sliced_string= my_string[:3]\n",
        "print(sliced_string)"
      ],
      "metadata": {
        "id": "08HxN4BQtoVC",
        "colab": {
          "base_uri": "https://localhost:8080/"
        },
        "outputId": "8e7894af-0111-4278-ee00-e5888201e497"
      },
      "execution_count": 5,
      "outputs": [
        {
          "output_type": "stream",
          "name": "stdout",
          "text": [
            "Pyt\n"
          ]
        }
      ]
    },
    {
      "cell_type": "code",
      "source": [
        "# 4.  Write a code to convert the string \"hello\" to uppercase.\n",
        "\n",
        "upp_string= \"hello\".upper()\n",
        "print(upp_string)"
      ],
      "metadata": {
        "colab": {
          "base_uri": "https://localhost:8080/"
        },
        "id": "MhzHRDKUelix",
        "outputId": "82fa0a91-de6b-418d-f1bb-d92504b62cfd"
      },
      "execution_count": 6,
      "outputs": [
        {
          "output_type": "stream",
          "name": "stdout",
          "text": [
            "HELLO\n"
          ]
        }
      ]
    },
    {
      "cell_type": "code",
      "source": [
        "# 5. Write a code to replace the word \"apple\" with \"orange\" in the string \"I like apple.\n",
        "\n",
        "string1= \"I love apple\"\n",
        "string1.replace(\"apple\", \"orange\")\n"
      ],
      "metadata": {
        "colab": {
          "base_uri": "https://localhost:8080/",
          "height": 35
        },
        "id": "wVKDggEGfS-V",
        "outputId": "7129eefe-81c7-4155-9429-9b403ece6172"
      },
      "execution_count": 9,
      "outputs": [
        {
          "output_type": "execute_result",
          "data": {
            "text/plain": [
              "'I love orange'"
            ],
            "application/vnd.google.colaboratory.intrinsic+json": {
              "type": "string"
            }
          },
          "metadata": {},
          "execution_count": 9
        }
      ]
    },
    {
      "cell_type": "code",
      "source": [
        "# 6.  Write a code to create a list with numbers 1 to 5 and print it.\n",
        "\n",
        "my_list= list(range(1,6))\n",
        "print(my_list)"
      ],
      "metadata": {
        "colab": {
          "base_uri": "https://localhost:8080/"
        },
        "id": "Q510lTEkgcQW",
        "outputId": "3315255a-7332-4e5b-8704-bcb9af8b76e8"
      },
      "execution_count": 11,
      "outputs": [
        {
          "output_type": "stream",
          "name": "stdout",
          "text": [
            "[1, 2, 3, 4, 5]\n"
          ]
        }
      ]
    },
    {
      "cell_type": "code",
      "source": [
        "#  7. Write a code to append the number 10 to the list [1, 2, 3, 4]\n",
        "\n",
        "my_list= [1,2,3,4]\n",
        "my_list.append(10)\n",
        "print(my_list)"
      ],
      "metadata": {
        "colab": {
          "base_uri": "https://localhost:8080/"
        },
        "id": "WSX0A-d7hH7A",
        "outputId": "bea5d47a-9bfd-40ac-c7a2-f3c5cfe7b526"
      },
      "execution_count": 14,
      "outputs": [
        {
          "output_type": "stream",
          "name": "stdout",
          "text": [
            "[1, 2, 3, 4, 10]\n"
          ]
        }
      ]
    },
    {
      "cell_type": "code",
      "source": [
        "# 8.  Write a code to remove the number 3 from the list [1, 2, 3, 4, 5]\n",
        "\n",
        "list1= [1,2,3,4,5]\n",
        "list1.remove(3)\n",
        "print(list1)"
      ],
      "metadata": {
        "colab": {
          "base_uri": "https://localhost:8080/"
        },
        "id": "hwkc294Ohh_2",
        "outputId": "9d5a3068-bac3-41bb-837f-61fc14c04866"
      },
      "execution_count": 15,
      "outputs": [
        {
          "output_type": "stream",
          "name": "stdout",
          "text": [
            "[1, 2, 4, 5]\n"
          ]
        }
      ]
    },
    {
      "cell_type": "code",
      "source": [
        "# 9. Write a code to access the second element in the list ['a', 'b', 'c', 'd']\n",
        "\n",
        "list1= ['a','b','c','d']\n",
        "list1[1]"
      ],
      "metadata": {
        "colab": {
          "base_uri": "https://localhost:8080/",
          "height": 35
        },
        "id": "q_D4TvUuh861",
        "outputId": "4077d3ba-ca99-4cfd-96c1-353a68fd37bc"
      },
      "execution_count": 16,
      "outputs": [
        {
          "output_type": "execute_result",
          "data": {
            "text/plain": [
              "'b'"
            ],
            "application/vnd.google.colaboratory.intrinsic+json": {
              "type": "string"
            }
          },
          "metadata": {},
          "execution_count": 16
        }
      ]
    },
    {
      "cell_type": "code",
      "source": [
        "# 10. Write a code to reverse the list [10, 20, 30, 40, 50]\n",
        "\n",
        "list1= [10,20,30,40,50]\n",
        "list1.reverse()\n",
        "print(list1)"
      ],
      "metadata": {
        "colab": {
          "base_uri": "https://localhost:8080/"
        },
        "id": "or4WHMS7iaA6",
        "outputId": "2852d279-e22d-4920-a019-ffbb1f5dafbc"
      },
      "execution_count": 19,
      "outputs": [
        {
          "output_type": "stream",
          "name": "stdout",
          "text": [
            "[50, 40, 30, 20, 10]\n"
          ]
        }
      ]
    },
    {
      "cell_type": "code",
      "source": [
        "# 11. Write a code to create a tuple with the elements 10, 20, 30 and print it.\n",
        "\n",
        "tup= (10,20,30)\n",
        "print(tup)"
      ],
      "metadata": {
        "colab": {
          "base_uri": "https://localhost:8080/"
        },
        "id": "A3Vxh2kmj1y5",
        "outputId": "50db5a10-c285-45df-822e-c58761faca88"
      },
      "execution_count": 20,
      "outputs": [
        {
          "output_type": "stream",
          "name": "stdout",
          "text": [
            "(10, 20, 30)\n"
          ]
        }
      ]
    },
    {
      "cell_type": "code",
      "source": [
        "# 12.  Write a code to access the first element of the tuple ('apple', 'banana', 'cherry')\n",
        "\n",
        "tup= (\"apple\",\"banana\",\"cherry\")\n",
        "tup[0]"
      ],
      "metadata": {
        "colab": {
          "base_uri": "https://localhost:8080/",
          "height": 35
        },
        "id": "iTtCJgu2kTgv",
        "outputId": "40affee7-877c-418f-a038-a10f616cca4d"
      },
      "execution_count": 21,
      "outputs": [
        {
          "output_type": "execute_result",
          "data": {
            "text/plain": [
              "'apple'"
            ],
            "application/vnd.google.colaboratory.intrinsic+json": {
              "type": "string"
            }
          },
          "metadata": {},
          "execution_count": 21
        }
      ]
    },
    {
      "cell_type": "code",
      "source": [
        "# 13.  Write a code to count how many times the number 2 appears in the tuple (1, 2, 3, 2, 4, 2)\n",
        "\n",
        "tup= (1,2,3,2,4,2)\n",
        "tup.count(2)"
      ],
      "metadata": {
        "colab": {
          "base_uri": "https://localhost:8080/"
        },
        "id": "foOTtywGkrqu",
        "outputId": "37880205-2e6a-49fc-cb8b-ab88c77cfa0a"
      },
      "execution_count": 22,
      "outputs": [
        {
          "output_type": "execute_result",
          "data": {
            "text/plain": [
              "3"
            ]
          },
          "metadata": {},
          "execution_count": 22
        }
      ]
    },
    {
      "cell_type": "code",
      "source": [
        "#  14. Write a code to find the index of the element \"cat\" in the tuple ('dog', 'cat', 'rabbit')\n",
        "\n",
        "tup= ('dog','cat','rabbit')\n",
        "tup.index('cat')"
      ],
      "metadata": {
        "colab": {
          "base_uri": "https://localhost:8080/"
        },
        "id": "ByxFz4FnlFMw",
        "outputId": "b2570486-c7a1-4e04-949a-6fb455c2576d"
      },
      "execution_count": 23,
      "outputs": [
        {
          "output_type": "execute_result",
          "data": {
            "text/plain": [
              "1"
            ]
          },
          "metadata": {},
          "execution_count": 23
        }
      ]
    },
    {
      "cell_type": "code",
      "source": [
        "# 15.  Write a code to check if the element \"banana\" is in the tuple ('apple', 'orange', 'banana')\n",
        "\n",
        "tup= ('apple','orange','banana')\n",
        "'banana' in tup"
      ],
      "metadata": {
        "colab": {
          "base_uri": "https://localhost:8080/"
        },
        "id": "MPofzvuzleiL",
        "outputId": "644ab0e9-0eca-4c5a-adbd-ff7a85b047c9"
      },
      "execution_count": 24,
      "outputs": [
        {
          "output_type": "execute_result",
          "data": {
            "text/plain": [
              "True"
            ]
          },
          "metadata": {},
          "execution_count": 24
        }
      ]
    },
    {
      "cell_type": "code",
      "source": [
        "# 16. Write a code to create a set with the elements 1, 2, 3, 4, 5 and print it\n",
        "\n",
        "set1= {1,2,3,4,5}\n",
        "print(set1)"
      ],
      "metadata": {
        "colab": {
          "base_uri": "https://localhost:8080/"
        },
        "id": "5HTKgXuvmL9-",
        "outputId": "e515fb01-7e8d-4dc9-d2ad-320c8041779a"
      },
      "execution_count": 25,
      "outputs": [
        {
          "output_type": "stream",
          "name": "stdout",
          "text": [
            "{1, 2, 3, 4, 5}\n"
          ]
        }
      ]
    },
    {
      "cell_type": "code",
      "source": [
        "# 17. Write a code to add the element 6 to the set {1, 2, 3, 4}\n",
        "\n",
        "set1= {1,2,3,4}\n",
        "set1.add(6)\n",
        "set1"
      ],
      "metadata": {
        "colab": {
          "base_uri": "https://localhost:8080/"
        },
        "id": "r-8KS7lGmngN",
        "outputId": "61cce8a7-963a-4a2e-aa15-be5071ef7673"
      },
      "execution_count": 28,
      "outputs": [
        {
          "output_type": "execute_result",
          "data": {
            "text/plain": [
              "{1, 2, 3, 4, 6}"
            ]
          },
          "metadata": {},
          "execution_count": 28
        }
      ]
    },
    {
      "cell_type": "code",
      "source": [
        "# repeated question from questuion no 18-24"
      ],
      "metadata": {
        "id": "wfyNeSSKoONd"
      },
      "execution_count": null,
      "outputs": []
    }
  ]
}